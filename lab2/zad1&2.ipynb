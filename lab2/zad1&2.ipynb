{
 "cells": [
  {
   "cell_type": "code",
   "execution_count": 353,
   "metadata": {
    "collapsed": true
   },
   "outputs": [],
   "source": [
    "import numpy as np\n",
    "from copy import deepcopy\n",
    "from math import sqrt"
   ]
  },
  {
   "cell_type": "code",
   "execution_count": 354,
   "outputs": [],
   "source": [
    "def random_matrix_size_n(n):\n",
    "    return [[np.float32(np.random.uniform(0, 1000)) for _ in range(n)] for _ in range(n)]\n",
    "\n",
    "def random_vector_size_n(n):\n",
    "    return [np.float32(np.random.uniform(0, 1000))  for _ in range(n)]"
   ],
   "metadata": {
    "collapsed": false
   }
  },
  {
   "cell_type": "code",
   "execution_count": 356,
   "outputs": [],
   "source": [
    "def gauss_jordan(A, B):\n",
    "    n = len(A)\n",
    "    for i in range(n):\n",
    "        for j in range(n):\n",
    "            if i != j:\n",
    "                multiplier = A[j][i] / A[i][i]\n",
    "                for k in range(i, n):\n",
    "                    A[j][k] -= multiplier*A[i][k]\n",
    "                B[j] -= multiplier*B[i]\n",
    "\n",
    "    for i in range(n):\n",
    "        B[i] /= A[i][i]\n",
    "    return B"
   ],
   "metadata": {
    "collapsed": false
   }
  },
  {
   "cell_type": "code",
   "execution_count": 357,
   "outputs": [],
   "source": [
    "def gauss_jordan_partial_pivoting(A, B):\n",
    "    n = len(A)\n",
    "    perm = [i for i in range(n)]\n",
    "    for i in range(n):\n",
    "        pivot = i\n",
    "        for j in range(i + 1, n):\n",
    "            if abs(A[perm[pivot]][i]) < abs(A[perm[j]][i]):\n",
    "                pivot = j\n",
    "\n",
    "        perm[pivot], perm[i] = perm[i], perm[pivot]\n",
    "        for j in range(n):\n",
    "            if i != j:\n",
    "                multiplier = A[perm[j]][i] / A[perm[i]][i]\n",
    "                for k in range(i, n):\n",
    "                    A[perm[j]][k] -= multiplier*A[perm[i]][k]\n",
    "                B[perm[j]] -= multiplier*B[perm[i]]\n",
    "\n",
    "    for i in range(n):\n",
    "        B[perm[i]] /= A[perm[i]][i]\n",
    "\n",
    "    ans = [0 for _ in range(n)]\n",
    "    for i in range(n):\n",
    "        ans[i] = B[perm[i]]\n",
    "    return ans\n"
   ],
   "metadata": {
    "collapsed": false
   }
  },
  {
   "cell_type": "code",
   "execution_count": 358,
   "outputs": [],
   "source": [
    "def gauss_jordan_complete_pivoting(A, B):\n",
    "    n = len(A)\n",
    "    perm_r = [i for i in range(n)]\n",
    "    perm_c = perm_r[:]\n",
    "    for i in range(n):\n",
    "        pivot_r = i\n",
    "        pivot_c = i\n",
    "        for j in range(i, n):\n",
    "            for k in range(i, n):\n",
    "                if abs(A[perm_r[pivot_r]][perm_c[pivot_c]]) < abs(A[perm_r[j]][perm_c[k]]):\n",
    "                    pivot_r = j\n",
    "                    pivot_c = k\n",
    "\n",
    "        perm_r[pivot_r], perm_r[i] = perm_r[i], perm_r[pivot_r]\n",
    "        perm_c[pivot_c], perm_c[i] = perm_c[i], perm_c[pivot_c]\n",
    "\n",
    "        for j in range(n):\n",
    "            if i != j:\n",
    "                multiplier = A[perm_r[j]][perm_c[i]] / A[perm_r[i]][perm_c[i]]\n",
    "                for k in range(i, n):\n",
    "                    A[perm_r[j]][perm_c[k]] -= multiplier*A[perm_r[i]][perm_c[k]]\n",
    "                B[perm_r[j]] -= multiplier*B[perm_r[i]]\n",
    "\n",
    "    for i in range(n):\n",
    "        B[perm_r[i]] /= A[perm_r[i]][perm_c[i]]\n",
    "\n",
    "    ans = [0 for _ in range(n)]\n",
    "    for i in range(n):\n",
    "        ans[perm_c[i]] = B[perm_r[i]]\n",
    "    return ans\n"
   ],
   "metadata": {
    "collapsed": false
   }
  },
  {
   "cell_type": "code",
   "execution_count": 1,
   "outputs": [],
   "source": [
    "def euclid_dist(v1, v2):\n",
    "    return sqrt(sum([pow(v1[i] - v2[i], 2) for i in range(len(v1))]))"
   ],
   "metadata": {
    "collapsed": false
   }
  },
  {
   "cell_type": "code",
   "execution_count": 366,
   "outputs": [
    {
     "name": "stdout",
     "output_type": "stream",
     "text": [
      "0.001715399054335287\n",
      "1.3250014790615805e-05\n",
      "3.339730714559298e-07\n"
     ]
    }
   ],
   "source": [
    "A1 = random_matrix_size_n(500)\n",
    "B1 = random_vector_size_n(500)\n",
    "A2 = deepcopy(A1)\n",
    "B2 = deepcopy(B1)\n",
    "A3 = deepcopy(A1)\n",
    "B3 = deepcopy(B1)\n",
    "A4 = deepcopy(A1)\n",
    "B4 = deepcopy(B1)\n",
    "\n",
    "\n",
    "vect1 = np.linalg.solve(A1, B1)\n",
    "vect2 = np.linalg.lstsq(A4, B4, rcond=None)\n",
    "v = gauss_jordan(A1, B1)\n",
    "print(euclid_dist(vect1, v))\n",
    "v = gauss_jordan_partial_pivoting(A2, B2)\n",
    "print(euclid_dist(vect1, v))\n",
    "v = gauss_jordan_complete_pivoting(A3, B3)\n",
    "print(euclid_dist(vect1, v))"
   ],
   "metadata": {
    "collapsed": false
   }
  },
  {
   "cell_type": "code",
   "execution_count": null,
   "outputs": [],
   "source": [
    "def lu_decomposition_in_situ(A):\n",
    "    n = len(A)\n",
    "    for i in range(n - 1):\n",
    "        for j in range(i + 1, n):\n",
    "            multiplier = A[j][i] / A[i][i]\n",
    "            A[j][i] = multiplier\n",
    "            for k in range(i + 1, n):\n",
    "                A[j][k] -= multiplier*A[i][k]\n",
    "    return A"
   ],
   "metadata": {
    "collapsed": false
   }
  },
  {
   "cell_type": "code",
   "execution_count": null,
   "outputs": [],
   "source": [
    "def compute_lu_distance(A, LU):\n",
    "    n = len(A)\n",
    "    norm = 0\n",
    "    for i in range(n):\n",
    "        for j in range(n):\n",
    "            entry = 0\n",
    "            if i == j:\n",
    "                for k in range(i):\n",
    "                    entry += LU[i][k] * LU[k][i]\n",
    "                entry += LU[i][i]\n",
    "            elif i < j:\n",
    "                for k in range(i):\n",
    "                    entry += LU[i][k]*LU[k][j]\n",
    "                entry += LU[i][j]\n",
    "            else:\n",
    "                for k in range(j + 1):\n",
    "                    entry += LU[i][k]*LU[k][j]\n",
    "\n",
    "            norm += pow(A[i][j] - entry, 2)\n",
    "    return sqrt(norm)"
   ],
   "metadata": {
    "collapsed": false
   }
  },
  {
   "cell_type": "code",
   "execution_count": null,
   "outputs": [],
   "source": [
    "C1 = random_matrix_size_n(5)\n",
    "C2 = deepcopy(C1)\n",
    "lu_decomposition_in_situ(A1)\n",
    "print(compute_lu_distance(A2, A1))"
   ],
   "metadata": {
    "collapsed": false
   }
  }
 ],
 "metadata": {
  "kernelspec": {
   "display_name": "Python 3",
   "language": "python",
   "name": "python3"
  },
  "language_info": {
   "codemirror_mode": {
    "name": "ipython",
    "version": 2
   },
   "file_extension": ".py",
   "mimetype": "text/x-python",
   "name": "python",
   "nbconvert_exporter": "python",
   "pygments_lexer": "ipython2",
   "version": "2.7.6"
  }
 },
 "nbformat": 4,
 "nbformat_minor": 0
}
