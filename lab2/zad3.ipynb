{
 "cells": [
  {
   "cell_type": "code",
   "execution_count": 7,
   "metadata": {
    "collapsed": true
   },
   "outputs": [],
   "source": [
    "import numpy as np\n",
    "import networkx as nx\n",
    "import graph_generator as gg\n",
    "import graph_visualiser as gv\n",
    "import importlib"
   ]
  },
  {
   "cell_type": "code",
   "execution_count": 8,
   "outputs": [
    {
     "data": {
      "text/plain": "<module 'graph_visualiser' from 'C:\\\\Users\\\\michn\\\\PycharmProjects\\\\pthong\\\\MOWNiT-Lab\\\\lab2\\\\graph_visualiser.py'>"
     },
     "execution_count": 8,
     "metadata": {},
     "output_type": "execute_result"
    }
   ],
   "source": [
    "importlib.reload(gg)\n",
    "importlib.reload(gv)"
   ],
   "metadata": {
    "collapsed": false
   }
  },
  {
   "cell_type": "code",
   "execution_count": 9,
   "outputs": [],
   "source": [
    "def kirchoff(g, s, t, E):\n",
    "    def add_sum_component(v1, v2):\n",
    "        edge = g[v1][v2]['edge']\n",
    "        if edge.voltage > 0:\n",
    "            if v1 < v2:\n",
    "                B[eq_no] -= edge.voltage\n",
    "            else:\n",
    "                B[eq_no] += edge.voltage\n",
    "        else:\n",
    "            if v1 < v2:\n",
    "                A[eq_no][edge.index] += edge.resistance\n",
    "            else:\n",
    "                A[eq_no][edge.index] -= edge.resistance\n",
    "\n",
    "    n = g.number_of_nodes()\n",
    "    m = g.number_of_edges()\n",
    "\n",
    "    cycle_basis = nx.cycle_basis(g)\n",
    "    no_of_eq = n + len(cycle_basis)\n",
    "    A = np.zeros((no_of_eq, m))\n",
    "    B = np.zeros(no_of_eq)\n",
    "\n",
    "    eq_no = 0\n",
    "    for cycle in cycle_basis:\n",
    "        for i in range(1, len(cycle)):\n",
    "            add_sum_component(cycle[i-1], cycle[i])\n",
    "        add_sum_component(cycle[-1], cycle[0])\n",
    "        eq_no += 1\n",
    "\n",
    "    for v in range(n):\n",
    "        for neighbor in g.neighbors(v):\n",
    "            edge = g[v][neighbor]['edge']\n",
    "            if v < neighbor:\n",
    "                A[eq_no][edge.index] += 1\n",
    "            else:\n",
    "                A[eq_no][edge.index] -= 1\n",
    "        eq_no += 1\n",
    "\n",
    "    transposed = A.T\n",
    "    ans = np.linalg.solve(np.matmul(transposed, A), np.matmul(transposed, B))\n",
    "    for a, b in g.edges:\n",
    "        edge = g[a][b]['edge']\n",
    "        edge.current = ans[edge.index]"
   ],
   "metadata": {
    "collapsed": false
   }
  },
  {
   "cell_type": "code",
   "execution_count": 10,
   "outputs": [],
   "source": [
    "def nodal_potentials(g, s, t, E):\n",
    "    n = g.number_of_nodes()\n",
    "    A = np.zeros((n, n))\n",
    "    B = np.zeros(n)\n",
    "    A[s][s] = 1\n",
    "    B[s] = E\n",
    "    A[t][t] = 1\n",
    "    B[t] = 0\n",
    "\n",
    "    for v in range(n):\n",
    "        if v != s and v != t:\n",
    "            for neighbor in g.neighbors(v):\n",
    "                edge = g[v][neighbor]['edge']\n",
    "                A[v][v] += 1/edge.resistance\n",
    "                A[v][neighbor] -= 1/edge.resistance\n",
    "\n",
    "    potentials = np.linalg.solve(A, B)\n",
    "    for a, b in g.edges:\n",
    "        edge = g[a][b]['edge']\n",
    "        if a < b:\n",
    "            edge.current = (potentials[a] - potentials[b]) / edge.resistance\n",
    "        else:\n",
    "            edge.current = (potentials[b] - potentials[a]) / edge.resistance"
   ],
   "metadata": {
    "collapsed": false
   }
  },
  {
   "cell_type": "code",
   "execution_count": 11,
   "outputs": [],
   "source": [
    "def check_currents(g, s, t):\n",
    "    eps = pow(10, -12)\n",
    "    for v in range(g.number_of_nodes()):\n",
    "        if v != s and v != t:\n",
    "            current_sum = 0\n",
    "            for neighbor in g.neighbors(v):\n",
    "                if v < neighbor:\n",
    "                    current_sum += g[v][neighbor]['edge'].current\n",
    "                else:\n",
    "                    current_sum -= g[v][neighbor]['edge'].current\n",
    "            if abs(current_sum) > eps:\n",
    "                return False\n",
    "    return True"
   ],
   "metadata": {
    "collapsed": false
   }
  },
  {
   "cell_type": "code",
   "execution_count": null,
   "outputs": [],
   "source": [],
   "metadata": {
    "collapsed": false
   }
  }
 ],
 "metadata": {
  "kernelspec": {
   "display_name": "Python 3",
   "language": "python",
   "name": "python3"
  },
  "language_info": {
   "codemirror_mode": {
    "name": "ipython",
    "version": 2
   },
   "file_extension": ".py",
   "mimetype": "text/x-python",
   "name": "python",
   "nbconvert_exporter": "python",
   "pygments_lexer": "ipython2",
   "version": "2.7.6"
  }
 },
 "nbformat": 4,
 "nbformat_minor": 0
}
