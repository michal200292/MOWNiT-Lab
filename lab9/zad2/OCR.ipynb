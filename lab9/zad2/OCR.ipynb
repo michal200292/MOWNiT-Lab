{
 "cells": [
  {
   "cell_type": "code",
   "execution_count": 1,
   "metadata": {
    "collapsed": true
   },
   "outputs": [],
   "source": [
    "import string\n",
    "from PIL import Image, ImageDraw, ImageFont\n",
    "import numpy as np\n",
    "from numpy.fft import fft2, ifft2\n",
    "from KDtree import KDTree, Rectangle"
   ]
  },
  {
   "cell_type": "code",
   "execution_count": 2,
   "outputs": [],
   "source": [
    "def draw_multiline_text(text, size=(800, 600), font='arial', show=False):\n",
    "    offset_x = size[0] // 5\n",
    "    offset_y = size[1] // 5\n",
    "    center = (size[0] // 2, size[1] // 2)\n",
    "    img = Image.new(\"RGB\", size, (255, 255, 255))\n",
    "    d = ImageDraw.Draw(img)\n",
    "\n",
    "    l = 5\n",
    "    r = 100\n",
    "    while l <= r:\n",
    "        s = (l + r) // 2\n",
    "        fnt = ImageFont.truetype(f\"fonts/{font}.ttf\", s)\n",
    "        upper_x, upper_y, lower_x, lower_y = d.multiline_textbbox(center, text, anchor='mm', font=fnt)\n",
    "        if (upper_x > offset_x and lower_x < size[0] - offset_x\n",
    "            and upper_y > offset_y and lower_y < size[1] - offset_y):\n",
    "            l = s + 1\n",
    "        else:\n",
    "            r = s - 1\n",
    "\n",
    "    font_size = r\n",
    "    fnt = ImageFont.truetype(f\"fonts/{font}.ttf\", font_size)\n",
    "    d.multiline_text(center, text, anchor='mm', font=fnt, fill=(0, 0, 0))\n",
    "    if show:\n",
    "        display(img)\n",
    "    return img, font_size"
   ],
   "metadata": {
    "collapsed": false
   }
  },
  {
   "cell_type": "code",
   "execution_count": 3,
   "outputs": [],
   "source": [
    "def remove_black_padding(img):\n",
    "    matrix = np.array(img)\n",
    "    matrix[:, :np.argmax(matrix[0])] = 255\n",
    "    return Image.fromarray(matrix)\n",
    "\n",
    "def draw_single_character(char, font_size, font='arial', show=False):\n",
    "    img = Image.new(\"L\", (200, 200), 255)\n",
    "    d = ImageDraw.Draw(img)\n",
    "    fnt = ImageFont.truetype(f\"fonts/{font}.ttf\", font_size)\n",
    "    w = d.textbbox((0, 0), char, font=fnt)\n",
    "    d.text((0, 0), char, font=fnt, fill=0)\n",
    "    img = img.crop(w)\n",
    "    if char == 'j':\n",
    "        img = remove_black_padding(img)\n",
    "    if show:\n",
    "        display(img)\n",
    "    return img"
   ],
   "metadata": {
    "collapsed": false
   }
  },
  {
   "cell_type": "code",
   "execution_count": 4,
   "outputs": [],
   "source": [
    "def rotate_image(img, angle):\n",
    "    return img.rotate(angle, fillcolor=(255, 255, 255), resample=Image.BICUBIC)"
   ],
   "metadata": {
    "collapsed": false
   }
  },
  {
   "cell_type": "code",
   "execution_count": 5,
   "outputs": [
    {
     "data": {
      "text/plain": "<PIL.Image.Image image mode=L size=31x97>",
      "image/png": "[encoded data removed]"
     },
     "metadata": {},
     "output_type": "display_data"
    }
   ],
   "source": [
    "char_a = draw_single_character('j', 99, font='open-sans')\n",
    "display(char_a)"
   ],
   "metadata": {
    "collapsed": false
   }
  },
  {
   "cell_type": "code",
   "execution_count": 6,
   "outputs": [],
   "source": [
    "out, f_size = draw_multiline_text('''\n",
    "In all chaotic beauty lies a wounded work of art.\n",
    "Beautiful but torn, wreaking havoc on my heart.\n",
    "Camouflaged by insecurities, blinded by it all.\n",
    "I love the way you sit there and barely notice me at all.\n",
    "''', font='open-sans')"
   ],
   "metadata": {
    "collapsed": false
   }
  },
  {
   "cell_type": "code",
   "execution_count": 7,
   "outputs": [],
   "source": [
    "def get_all_character(font, fontsize):\n",
    "    characters = string.ascii_lowercase + \".,?!\"\n",
    "    return list(map(lambda x: draw_single_character(x, fontsize, font), characters))\n"
   ],
   "metadata": {
    "collapsed": false
   }
  },
  {
   "cell_type": "code",
   "execution_count": 8,
   "outputs": [],
   "source": [
    "def img_to_matrix(img):\n",
    "    img = img.convert('L')\n",
    "    return np.array(img)\n",
    "\n",
    "def matrix_to_image(matrix):\n",
    "    return Image.fromarray(matrix)\n",
    "\n",
    "def invert_colors(matrix):\n",
    "    return 255 - matrix\n",
    "\n",
    "def convolve_images(pattern, image):\n",
    "    s = (max(pattern.shape[0], image.shape[0]), max(pattern.shape[1], image.shape[1]))\n",
    "    return np.abs(ifft2(fft2(pattern[::-1, ::-1], s=s) * fft2(image, s=s)))\n",
    "\n",
    "def normalize(matrix):\n",
    "    return 255 * (matrix / np.max(matrix))\n",
    "\n",
    "def threshold_matrix(matrix, k=150):\n",
    "    black = matrix < k\n",
    "    white = matrix >= k\n",
    "    matrix[black] = 0\n",
    "    matrix[white] = 255\n",
    "    return matrix\n"
   ],
   "metadata": {
    "collapsed": false
   }
  },
  {
   "cell_type": "code",
   "execution_count": 9,
   "outputs": [],
   "source": [
    "def reduce_noise(img, k = 80):\n",
    "    matrix = img_to_matrix(img)\n",
    "    U, S, V = np.linalg.svd(matrix)\n",
    "    mat = U[:, :k] @ np.diag(S[:k]) @ V[:k, :]\n",
    "    return matrix_to_image(normalize(mat)).convert('L')\n"
   ],
   "metadata": {
    "collapsed": false
   }
  },
  {
   "cell_type": "code",
   "execution_count": 10,
   "outputs": [],
   "source": [
    "def count_lines(img):\n",
    "    matrix = invert_colors(threshold_matrix(img_to_matrix(img)))\n",
    "    matrix = np.sum(matrix, axis=1)\n",
    "    return matrix.shape[0] - np.count_nonzero(matrix)\n",
    "\n",
    "def count_something(img):\n",
    "    matrix = invert_colors(threshold_matrix(img_to_matrix(img)))\n",
    "    rows = np.argmax(matrix[:, ::-1], axis=1)\n",
    "    cols = np.argmax(matrix[::-1, :], axis=0)\n",
    "    return 3*np.sum(rows) + np.sum(cols)\n",
    "\n",
    "def upside_down(img):\n",
    "    return count_something(img) < count_something(rotate_image(img, 180))\n",
    "\n",
    "def correct_angle(img):\n",
    "    best_angle = 0\n",
    "    best_score = 0\n",
    "    for i in range(180):\n",
    "        rotated = rotate_image(img, i)\n",
    "        if (score := count_lines(rotated)) > best_score:\n",
    "            best_score = score\n",
    "            best_angle = i\n",
    "\n",
    "    img = rotate_image(img, best_angle)\n",
    "    if upside_down(img):\n",
    "        return rotate_image(img, 180)\n",
    "    return img\n"
   ],
   "metadata": {
    "collapsed": false
   }
  },
  {
   "cell_type": "code",
   "execution_count": 10,
   "outputs": [],
   "source": [],
   "metadata": {
    "collapsed": false
   }
  },
  {
   "cell_type": "code",
   "execution_count": 11,
   "outputs": [],
   "source": [
    "def ocr(image, font, font_size, i=8):\n",
    "    image = reduce_noise(image)\n",
    "    chars = get_all_character(font, font_size)\n",
    "    char_arrays = list(map(img_to_matrix, chars))\n",
    "    char_arrays = list(map(invert_colors, char_arrays))\n",
    "\n",
    "    matrix = img_to_matrix(image)\n",
    "    matrix = invert_colors(matrix)\n",
    "\n",
    "    convolution = convolve_images(char_arrays[i], matrix)\n",
    "    max_correlation = np.max(convolve_images(char_arrays[i], char_arrays[i]))\n",
    "\n",
    "    display(Image.fromarray(char_arrays[i]))\n",
    "\n",
    "    new_array = np.array(image.convert('RGB'))\n",
    "    a, b = char_arrays[i].shape\n",
    "    red = (255, 0, 0)\n",
    "\n",
    "    count = 0\n",
    "    points = []\n",
    "    for i, j in zip(*np.where(np.abs(convolution - max_correlation) < 0.05*max_correlation)):\n",
    "        points.append((i, j))\n",
    "        new_array[i:i-a:-1, j] = red\n",
    "        new_array[i:i-a:-1, j - b] = red\n",
    "        new_array[i, j:j-b:-1] = red\n",
    "        new_array[i - a, j:j-b:-1] = red\n",
    "        count += 1\n",
    "\n",
    "    display(Image.fromarray(new_array))\n",
    "    return points"
   ],
   "metadata": {
    "collapsed": false
   }
  },
  {
   "cell_type": "code",
   "execution_count": 12,
   "outputs": [],
   "source": [
    "def correlation_matrix(font, font_size):\n",
    "    chars = get_all_character(font, font_size)\n",
    "    char_arrays = list(map(img_to_matrix, chars))\n",
    "    char_arrays = list(map(invert_colors, char_arrays))\n",
    "    norms = np.sqrt(np.array([np.max(convolve_images(i, i)) for i in char_arrays]))\n",
    "    pairs = list(zip(char_arrays, norms))\n",
    "    correlation = np.array([[np.max(convolve_images(i, j) / (i_norm * j_norm)) for i, i_norm in pairs] for j, j_norm in pairs])\n",
    "    print(np.round(correlation[8], 2))\n",
    "    return correlation"
   ],
   "metadata": {
    "collapsed": false
   }
  },
  {
   "cell_type": "code",
   "execution_count": 14,
   "outputs": [],
   "source": [
    "# correlation_matrix('open-sans', 12)"
   ],
   "metadata": {
    "collapsed": false
   }
  },
  {
   "cell_type": "code",
   "execution_count": 15,
   "outputs": [
    {
     "data": {
      "text/plain": "<PIL.Image.Image image mode=L size=5x14>",
      "image/png": "[encoded data removed]"
     },
     "metadata": {},
     "output_type": "display_data"
    },
    {
     "data": {
      "text/plain": "<PIL.Image.Image image mode=RGB size=800x600>",
      "image/png": "[encoded data removed]"
     },
     "metadata": {},
     "output_type": "display_data"
    }
   ],
   "source": [
    "points_s = ocr(out, 'open-sans', f_size)"
   ],
   "metadata": {
    "collapsed": false
   }
  },
  {
   "cell_type": "code",
   "execution_count": 16,
   "outputs": [
    {
     "name": "stdout",
     "output_type": "stream",
     "text": [
      "[(269, 205), (269, 210), (269, 229), (269, 348), (270, 205), (270, 210), (270, 229), (270, 267), (270, 286), (270, 348), (270, 353), (270, 513), (293, 245), (293, 413), (293, 526), (294, 223), (294, 245), (294, 255), (294, 373), (294, 382), (294, 413), (294, 526), (317, 240), (317, 433), (317, 542), (317, 547), (318, 240), (318, 291), (318, 316), (318, 378), (318, 389), (318, 422), (318, 433), (318, 438), (318, 491), (318, 516), (318, 542), (318, 547), (341, 184), (341, 230), (341, 361), (341, 479), (341, 618), (341, 623), (342, 184), (342, 230), (342, 339), (342, 361), (342, 441), (342, 479), (342, 526), (342, 618), (342, 623)]\n"
     ]
    }
   ],
   "source": [
    "print(points_s)"
   ],
   "metadata": {
    "collapsed": false
   }
  },
  {
   "cell_type": "code",
   "execution_count": 17,
   "outputs": [],
   "source": [
    "tree = KDTree(points_s)"
   ],
   "metadata": {
    "collapsed": false
   }
  },
  {
   "cell_type": "code",
   "execution_count": 19,
   "outputs": [],
   "source": [
    "tree.build_kd()"
   ],
   "metadata": {
    "collapsed": false
   }
  },
  {
   "cell_type": "code",
   "execution_count": null,
   "outputs": [],
   "source": [],
   "metadata": {
    "collapsed": false
   }
  }
 ],
 "metadata": {
  "kernelspec": {
   "display_name": "Python 3",
   "language": "python",
   "name": "python3"
  },
  "language_info": {
   "codemirror_mode": {
    "name": "ipython",
    "version": 2
   },
   "file_extension": ".py",
   "mimetype": "text/x-python",
   "name": "python",
   "nbconvert_exporter": "python",
   "pygments_lexer": "ipython2",
   "version": "2.7.6"
  }
 },
 "nbformat": 4,
 "nbformat_minor": 0
}
