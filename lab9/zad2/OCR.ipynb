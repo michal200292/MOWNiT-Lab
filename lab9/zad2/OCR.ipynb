{
 "cells": [
  {
   "cell_type": "code",
   "execution_count": 3,
   "metadata": {},
   "outputs": [],
   "source": [
    "import string\n",
    "from PIL import Image, ImageDraw, ImageFont\n",
    "import numpy as np\n",
    "from numpy.fft import fft2, ifft2"
   ]
  },
  {
   "cell_type": "code",
   "execution_count": 4,
   "metadata": {},
   "outputs": [],
   "source": [
    "def draw_multiline_text(text, size=(800, 600), font_size=40, font='arial', show=False):\n",
    "\n",
    "    def fit_horizontal():\n",
    "        return upper_x > offset_x and lower_x < size[0] - offset_x\n",
    "\n",
    "    def fit_vertical():\n",
    "        return upper_y > offset_y and lower_y < size[1] - offset_y\n",
    "\n",
    "    offset_x = size[0] // 7\n",
    "    offset_y = size[1] // 7\n",
    "    center = (size[0] // 2, size[1] // 2)\n",
    "    img = Image.new(\"RGB\", size, (255, 255, 255))\n",
    "    d = ImageDraw.Draw(img)\n",
    "\n",
    "    fnt = ImageFont.truetype(f\"fonts/{font}.ttf\", font_size)\n",
    "    upper_x, upper_y, lower_x, lower_y = d.multiline_textbbox(center, text, anchor='mm', font=fnt)\n",
    "    if not fit_horizontal():\n",
    "        return draw_multiline_text(text, size = (size[0] + 100, size[1]),\n",
    "                                   font_size=font_size, font=font, show=show)\n",
    "    if not fit_vertical():\n",
    "        return draw_multiline_text(text, size = (size[0], size[1] + 100),\n",
    "                                   font_size=font_size, font=font, show=show)\n",
    "\n",
    "    d.multiline_text(center, text, anchor='mm', font=fnt, fill=(0, 0, 0))\n",
    "    if show:\n",
    "        display(img)\n",
    "    return img, font_size"
   ]
  },
  {
   "cell_type": "code",
   "execution_count": 5,
   "metadata": {},
   "outputs": [],
   "source": [
    "def remove_black_padding(img):\n",
    "    matrix = np.array(img)\n",
    "    matrix[:, :np.argmax(matrix[0])] = 255\n",
    "    return Image.fromarray(matrix)\n",
    "\n",
    "def draw_single_character(char, font_size, font='arial', show=False):\n",
    "    img = Image.new(\"L\", (200, 200), 255)\n",
    "    d = ImageDraw.Draw(img)\n",
    "    fnt = ImageFont.truetype(f\"fonts/{font}.ttf\", font_size)\n",
    "    w = d.textbbox((0, 0), char, font=fnt)\n",
    "    d.text((0, 0), char, font=fnt, fill=0)\n",
    "    img = img.crop(w)\n",
    "    if char == 'j':\n",
    "        img = remove_black_padding(img)\n",
    "    if show:\n",
    "        display(img)\n",
    "    return img"
   ]
  },
  {
   "cell_type": "code",
   "execution_count": 6,
   "metadata": {},
   "outputs": [],
   "source": [
    "def rotate_image(img, angle):\n",
    "    return img.rotate(angle, fillcolor=(255, 255, 255), resample=Image.BICUBIC)"
   ]
  },
  {
   "cell_type": "code",
   "execution_count": 7,
   "metadata": {},
   "outputs": [
    {
     "data": {
      "text/plain": "<PIL.Image.Image image mode=L size=31x97>",
      "image/png": "[encoded data removed]"
     },
     "metadata": {},
     "output_type": "display_data"
    }
   ],
   "source": [
    "char_a = draw_single_character('j', 99, font='open-sans')\n",
    "display(char_a)"
   ]
  },
  {
   "cell_type": "code",
   "execution_count": 106,
   "outputs": [],
   "source": [
    "characters = string.ascii_uppercase + string.ascii_lowercase + string.digits + \",.?!\""
   ],
   "metadata": {
    "collapsed": false
   }
  },
  {
   "cell_type": "code",
   "execution_count": 109,
   "metadata": {},
   "outputs": [],
   "source": [
    "\n",
    "txt = '''\n",
    "The quick brown fox jumped over the back of a lazy dog.?\n",
    "                 012345,6789!\n",
    "'''\n",
    "\n",
    "# txt = txt.lower()\n",
    "txt = \"\".join(list(map(lambda x: x if x in characters or x == '\\n' else \" \", txt)))\n",
    "\n",
    "out, f_size = draw_multiline_text(txt, size= (600, 400), font='open-sans', font_size=25)"
   ]
  },
  {
   "cell_type": "code",
   "execution_count": 110,
   "outputs": [
    {
     "data": {
      "text/plain": "<PIL.Image.Image image mode=RGB size=1000x400>",
      "image/png": "[encoded data removed]"
     },
     "metadata": {},
     "output_type": "display_data"
    }
   ],
   "source": [
    "display(out)"
   ],
   "metadata": {
    "collapsed": false
   }
  },
  {
   "cell_type": "code",
   "execution_count": 111,
   "metadata": {},
   "outputs": [],
   "source": [
    "def get_all_character(font, fontsize):\n",
    "    return list(map(lambda x: draw_single_character(x, fontsize, font), characters))"
   ]
  },
  {
   "cell_type": "code",
   "execution_count": 112,
   "metadata": {},
   "outputs": [],
   "source": [
    "def img_to_matrix(img):\n",
    "    img = img.convert('L')\n",
    "    return np.array(img, dtype=float)\n",
    "\n",
    "def matrix_to_image(matrix):\n",
    "    return Image.fromarray(matrix).convert('L')\n",
    "\n",
    "def invert_colors(matrix):\n",
    "    return 255 - matrix\n",
    "\n",
    "def convolve_images(pattern, image):\n",
    "    s = (max(pattern.shape[0], image.shape[0]), max(pattern.shape[1], image.shape[1]))\n",
    "    return np.abs(ifft2(fft2(pattern[::-1, ::-1], s=s) * fft2(image, s=s)))\n",
    "\n",
    "def normalize(matrix):\n",
    "    return 255 * (matrix / np.max(matrix))\n",
    "\n",
    "def threshold_matrix(matrix, k=150):\n",
    "    black = matrix < k\n",
    "    white = matrix >= k\n",
    "    matrix[black] = 0\n",
    "    matrix[white] = 255\n",
    "    return matrix\n"
   ]
  },
  {
   "cell_type": "code",
   "execution_count": 113,
   "metadata": {},
   "outputs": [],
   "source": [
    "def reduce_noise(img, k = 80):\n",
    "    matrix = img_to_matrix(img)\n",
    "    u, s, v = np.linalg.svd(matrix)\n",
    "    mat = u[:, :k] @ np.diag(s[:k]) @ v[:k, :]\n",
    "    return matrix_to_image(normalize(mat)).convert('L')\n"
   ]
  },
  {
   "cell_type": "code",
   "execution_count": 114,
   "metadata": {},
   "outputs": [],
   "source": [
    "def count_lines(img):\n",
    "    matrix = invert_colors(threshold_matrix(img_to_matrix(img)))\n",
    "    matrix = np.sum(matrix, axis=1)\n",
    "    matrix[matrix > 0] = 1\n",
    "    return matrix.shape[0] - np.count_nonzero(matrix) - np.argmax(matrix) - np.argmax(matrix[::-1])\n",
    "\n",
    "def count_something(img):\n",
    "    matrix = invert_colors(threshold_matrix(img_to_matrix(img)))\n",
    "    rows = np.argmax(matrix[:, ::-1], axis=1)\n",
    "    cols = np.argmax(matrix[::-1, :], axis=0)\n",
    "    return 3*np.sum(rows) + np.sum(cols)\n",
    "\n",
    "def upside_down(img):\n",
    "    return count_something(img) < count_something(rotate_image(img, 180))\n",
    "\n",
    "def correct_angle(img):\n",
    "    best_angle = 0\n",
    "    best_score = 0\n",
    "    for i in range(180):\n",
    "        rotated = rotate_image(img, i)\n",
    "        if (score := count_lines(rotated)) > best_score:\n",
    "            best_score = score\n",
    "            best_angle = i\n",
    "\n",
    "    img = rotate_image(img, best_angle)\n",
    "    if upside_down(img):\n",
    "        return rotate_image(img, 180)\n",
    "    return img\n"
   ]
  },
  {
   "cell_type": "code",
   "execution_count": 117,
   "metadata": {},
   "outputs": [],
   "source": [
    "from bisect import bisect_left\n",
    "from intervaltree import IntervalTree, Interval\n",
    "import networkx as nx\n",
    "\n",
    "\n",
    "def prepare_images(images):\n",
    "    return list(\n",
    "        map(lambda x: threshold_matrix(x, 220),\n",
    "        map(invert_colors,\n",
    "        map(img_to_matrix, images)))\n",
    "    )\n",
    "\n",
    "def split_lines(matrix):\n",
    "    matrix = threshold_matrix(matrix)\n",
    "    matrix = np.sum(matrix, axis=1)\n",
    "    matrix[matrix > 0] = 1\n",
    "    lines = [np.argmax(matrix) - 1]\n",
    "    i = lines[-1] + 1\n",
    "    while i < matrix.shape[0]:\n",
    "        if matrix[i] == 0:\n",
    "            lines.append(i)\n",
    "            while i < matrix.shape[0] and matrix[i] == 0:\n",
    "                i += 1\n",
    "        i += 1\n",
    "    return lines[:-1]\n",
    "\n",
    "def remove_empty(lines, font_size):\n",
    "    min_height = font_size // 3\n",
    "    new_lines = [lines[0]]\n",
    "    for x in lines[1:]:\n",
    "        if x - new_lines[-1] > min_height:\n",
    "            new_lines.append(x)\n",
    "    for i in range(len(new_lines)):\n",
    "        new_lines[i] += min_height // 3\n",
    "    return new_lines\n",
    "\n",
    "def find_occurrences(pattern, image, eps=0.1):\n",
    "    convolution = convolve_images(pattern, image)\n",
    "    max_correlation = np.sum(pattern * pattern)\n",
    "    return list(zip(*np.where(np.abs(convolution - max_correlation) < eps * max_correlation)))\n",
    "\n",
    "def create_graph(font, font_size, chars):\n",
    "    images = [draw_multiline_text(c, size=(font_size*2, font_size*2), font=font, font_size=font_size)[0] for c in characters]\n",
    "    images = prepare_images(images)\n",
    "\n",
    "    g = [[] for _ in range(len(chars))]\n",
    "    for i, pattern in enumerate(chars):\n",
    "        for j, image in enumerate(images):\n",
    "            if i != j and find_occurrences(pattern, image):\n",
    "                g[j].append(i)\n",
    "    return g\n",
    "\n",
    "def dfs(v, g, visit, order):\n",
    "    visit[v] = True\n",
    "    for s in g[v]:\n",
    "        if not visit[s]:\n",
    "            dfs(s, g, visit, order)\n",
    "    order.append(v)\n",
    "\n",
    "def topological_sort(g):\n",
    "    n = len(g)\n",
    "    visit = np.full(n, False)\n",
    "    order = []\n",
    "    for i in range(n):\n",
    "        if not visit[i]:\n",
    "            dfs(i, g, visit, order)\n",
    "    return np.array(order)[::-1]\n",
    "\n",
    "\n",
    "def pagerank_order(g):\n",
    "    n = len(g)\n",
    "    graph = nx.DiGraph()\n",
    "    graph.add_nodes_from(range(len(g)))\n",
    "    graph.add_edges_from([(i, j) for i in range(n) for j in g[i]])\n",
    "    rank = nx.pagerank(graph).values()\n",
    "    return np.argsort(np.array(list(rank)))\n",
    "\n",
    "def power_method(g):\n",
    "    n = len(g)\n",
    "    matrix = np.zeros((n, n))\n",
    "    for i in range(n):\n",
    "        matrix[i, g[i]] = 1\n",
    "\n",
    "    x = np.full(n, 1 / n, float)\n",
    "    for _ in range(100):\n",
    "        x = x @ matrix\n",
    "    return np.argsort(x)\n",
    "\n",
    "def ocr(image, font, font_size, order=None, rotate=False):\n",
    "    if rotate:\n",
    "        image = correct_angle(image)\n",
    "\n",
    "    chars = get_all_character(font, font_size)\n",
    "    char_arrays = prepare_images(chars)\n",
    "    matrix = prepare_images([image])[0]\n",
    "\n",
    "    if order is None:\n",
    "        g = create_graph(font, font_size, char_arrays)\n",
    "        order = pagerank_order(g)\n",
    "\n",
    "    lines = remove_empty(split_lines(matrix), font_size)\n",
    "    n = len(lines)\n",
    "    intervals = [IntervalTree() for _ in range(n)]\n",
    "    line_maps = [{} for _ in range(n)]\n",
    "\n",
    "    for c in order:\n",
    "        for i, j in find_occurrences(char_arrays[c], matrix):\n",
    "            inter = bisect_left(lines, i) - 1\n",
    "            left, right = j - char_arrays[c].shape[1] + 2, j - 2\n",
    "            if left >= right:\n",
    "                left, right = j - 2, j - 1\n",
    "            new_inter = Interval(left, right)\n",
    "            if intervals[inter].overlaps(new_inter):\n",
    "                continue\n",
    "            intervals[inter].add(new_inter)\n",
    "            line_maps[inter][(left, right)] = characters[c]\n",
    "\n",
    "    space = img_to_matrix(draw_single_character(' ', font_size, font)).shape[1]\n",
    "    sorted_lines = [sorted(line.items()) for line in line_maps]\n",
    "    sorted_lines = list(filter(len, sorted_lines))\n",
    "\n",
    "    leftmost = min(line[0][0][0] for line in sorted_lines)\n",
    "    output = \"\"\n",
    "    for line in sorted_lines:\n",
    "        last_x = leftmost\n",
    "        for (left, right), char in line:\n",
    "            if left - last_x >= space:\n",
    "                output += \" \"*((left - last_x) // space)\n",
    "            output += char\n",
    "            last_x = right\n",
    "        output += '\\n'\n",
    "\n",
    "    return output"
   ]
  },
  {
   "cell_type": "code",
   "execution_count": 118,
   "metadata": {},
   "outputs": [],
   "source": [
    "result = ocr(out, 'open-sans', f_size)"
   ]
  },
  {
   "cell_type": "code",
   "execution_count": 119,
   "outputs": [
    {
     "name": "stdout",
     "output_type": "stream",
     "text": [
      "The quick brown fox jumped over the back of a lazy dog.?\n",
      "                 012345,6789!\n",
      "\n"
     ]
    }
   ],
   "source": [
    "print(result)"
   ],
   "metadata": {
    "collapsed": false
   }
  },
  {
   "cell_type": "code",
   "execution_count": 120,
   "outputs": [
    {
     "name": "stdout",
     "output_type": "stream",
     "text": [
      "0.9886363636363636\n"
     ]
    }
   ],
   "source": [
    "import Levenshtein\n",
    "print(1 - Levenshtein.distance(result, txt) / max(len(result), len(txt)))"
   ],
   "metadata": {
    "collapsed": false
   }
  },
  {
   "cell_type": "code",
   "execution_count": null,
   "outputs": [],
   "source": [],
   "metadata": {
    "collapsed": false
   }
  }
 ],
 "metadata": {
  "kernelspec": {
   "display_name": "Python 3 (ipykernel)",
   "language": "python",
   "name": "python3"
  },
  "language_info": {
   "codemirror_mode": {
    "name": "ipython",
    "version": 3
   },
   "file_extension": ".py",
   "mimetype": "text/x-python",
   "name": "python",
   "nbconvert_exporter": "python",
   "pygments_lexer": "ipython3",
   "version": "3.11.2"
  }
 },
 "nbformat": 4,
 "nbformat_minor": 1
}
