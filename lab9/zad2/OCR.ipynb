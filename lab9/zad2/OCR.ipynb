{
 "cells": [
  {
   "cell_type": "code",
   "execution_count": 1,
   "metadata": {},
   "outputs": [],
   "source": [
    "import string\n",
    "from PIL import Image, ImageDraw, ImageFont\n",
    "import numpy as np\n",
    "from numpy.fft import fft2, ifft2"
   ]
  },
  {
   "cell_type": "code",
   "execution_count": 2,
   "metadata": {},
   "outputs": [],
   "source": [
    "def draw_multiline_text(text, size=(800, 600), font='arial', show=False, font_size=-1):\n",
    "\n",
    "    def fits():\n",
    "        return (upper_x > offset_x and lower_x < size[0] - offset_x\n",
    "                and upper_y > offset_y and lower_y < size[1] - offset_y)\n",
    "\n",
    "    offset_x = size[0] // 5\n",
    "    offset_y = size[1] // 5\n",
    "    center = (size[0] // 2, size[1] // 2)\n",
    "    img = Image.new(\"RGB\", size, (255, 255, 255))\n",
    "    d = ImageDraw.Draw(img)\n",
    "    if font_size != -1:\n",
    "        fnt = ImageFont.truetype(f\"fonts/{font}.ttf\", font_size)\n",
    "        upper_x, upper_y, lower_x, lower_y = d.multiline_textbbox(center, text, anchor='mm', font=fnt)\n",
    "        if not fits():\n",
    "            font_size = -1\n",
    "\n",
    "    if font_size == -1:\n",
    "        l = 5\n",
    "        r = 100\n",
    "        while l <= r:\n",
    "            s = (l + r) // 2\n",
    "            fnt = ImageFont.truetype(f\"fonts/{font}.ttf\", s)\n",
    "            upper_x, upper_y, lower_x, lower_y = d.multiline_textbbox(center, text, anchor='mm', font=fnt)\n",
    "            if fits():\n",
    "                l = s + 1\n",
    "            else:\n",
    "                r = s - 1\n",
    "        font_size = r\n",
    "\n",
    "    fnt = ImageFont.truetype(f\"fonts/{font}.ttf\", font_size)\n",
    "    d.multiline_text(center, text, anchor='mm', font=fnt, fill=(0, 0, 0))\n",
    "    if show:\n",
    "        display(img)\n",
    "    return img, font_size"
   ]
  },
  {
   "cell_type": "code",
   "execution_count": 3,
   "metadata": {},
   "outputs": [],
   "source": [
    "def remove_black_padding(img):\n",
    "    matrix = np.array(img)\n",
    "    matrix[:, :np.argmax(matrix[0])] = 255\n",
    "    return Image.fromarray(matrix)\n",
    "\n",
    "def draw_single_character(char, font_size, font='arial', show=False):\n",
    "    img = Image.new(\"L\", (200, 200), 255)\n",
    "    d = ImageDraw.Draw(img)\n",
    "    fnt = ImageFont.truetype(f\"fonts/{font}.ttf\", font_size)\n",
    "    w = d.textbbox((0, 0), char, font=fnt)\n",
    "    d.text((0, 0), char, font=fnt, fill=0)\n",
    "    img = img.crop(w)\n",
    "    if char == 'j':\n",
    "        img = remove_black_padding(img)\n",
    "    if show:\n",
    "        display(img)\n",
    "    return img"
   ]
  },
  {
   "cell_type": "code",
   "execution_count": 4,
   "metadata": {},
   "outputs": [],
   "source": [
    "def rotate_image(img, angle):\n",
    "    return img.rotate(angle, fillcolor=(255, 255, 255), resample=Image.BICUBIC)"
   ]
  },
  {
   "cell_type": "code",
   "execution_count": 5,
   "metadata": {},
   "outputs": [
    {
     "data": {
      "text/plain": "<PIL.Image.Image image mode=L size=31x97>",
      "image/png": "[encoded data removed]"
     },
     "metadata": {},
     "output_type": "display_data"
    }
   ],
   "source": [
    "char_a = draw_single_character('j', 99, font='open-sans')\n",
    "display(char_a)"
   ]
  },
  {
   "cell_type": "code",
   "execution_count": 6,
   "outputs": [],
   "source": [
    "characters = string.ascii_lowercase + \".,!?\"\n",
    "# txt = list(characters)\n",
    "# txt = \"\".join([4*x for x in txt])\n",
    "# txt = txt[::4] + '\\n'+ txt[1::4] +'\\n'+ txt[2::4] + '\\n'+ txt[3::4]"
   ],
   "metadata": {
    "collapsed": false
   }
  },
  {
   "cell_type": "code",
   "execution_count": 39,
   "metadata": {},
   "outputs": [],
   "source": [
    "\n",
    "txt = '''\n",
    "nature s first green is gold\n",
    "her hardest hue to hold.\n",
    "her early leaf s a flower\n",
    "but only so an hour.\n",
    "\n",
    "'''\n",
    "\n",
    "out, f_size = draw_multiline_text(txt, font='arial')"
   ]
  },
  {
   "cell_type": "code",
   "execution_count": 40,
   "metadata": {},
   "outputs": [],
   "source": [
    "def get_all_character(font, fontsize):\n",
    "    return list(map(lambda x: draw_single_character(x, fontsize, font), characters))\n"
   ]
  },
  {
   "cell_type": "code",
   "execution_count": 41,
   "metadata": {},
   "outputs": [],
   "source": [
    "def img_to_matrix(img):\n",
    "    img = img.convert('L')\n",
    "    return np.array(img)\n",
    "\n",
    "def matrix_to_image(matrix):\n",
    "    return Image.fromarray(matrix)\n",
    "\n",
    "def invert_colors(matrix):\n",
    "    return 255 - matrix\n",
    "\n",
    "def convolve_images(pattern, image):\n",
    "    s = (max(pattern.shape[0], image.shape[0]), max(pattern.shape[1], image.shape[1]))\n",
    "    return np.abs(ifft2(fft2(pattern[::-1, ::-1], s=s) * fft2(image, s=s)))\n",
    "\n",
    "def normalize(matrix):\n",
    "    return 255 * (matrix / np.max(matrix))\n",
    "\n",
    "def threshold_matrix(matrix, k=150):\n",
    "    black = matrix < k\n",
    "    white = matrix >= k\n",
    "    matrix[black] = 0\n",
    "    matrix[white] = 255\n",
    "    return matrix\n"
   ]
  },
  {
   "cell_type": "code",
   "execution_count": 42,
   "metadata": {},
   "outputs": [],
   "source": [
    "def reduce_noise(img, k = 80):\n",
    "    matrix = img_to_matrix(img)\n",
    "    U, S, V = np.linalg.svd(matrix)\n",
    "    mat = U[:, :k] @ np.diag(S[:k]) @ V[:k, :]\n",
    "    return matrix_to_image(normalize(mat)).convert('L')\n"
   ]
  },
  {
   "cell_type": "code",
   "execution_count": 43,
   "metadata": {},
   "outputs": [],
   "source": [
    "def count_lines(img):\n",
    "    matrix = invert_colors(threshold_matrix(img_to_matrix(img)))\n",
    "    matrix = np.sum(matrix, axis=1)\n",
    "    return matrix.shape[0] - np.count_nonzero(matrix)\n",
    "\n",
    "def count_something(img):\n",
    "    matrix = invert_colors(threshold_matrix(img_to_matrix(img)))\n",
    "    rows = np.argmax(matrix[:, ::-1], axis=1)\n",
    "    cols = np.argmax(matrix[::-1, :], axis=0)\n",
    "    return 3*np.sum(rows) + np.sum(cols)\n",
    "\n",
    "def upside_down(img):\n",
    "    return count_something(img) < count_something(rotate_image(img, 180))\n",
    "\n",
    "def correct_angle(img):\n",
    "    best_angle = 0\n",
    "    best_score = 0\n",
    "    for i in range(180):\n",
    "        rotated = rotate_image(img, i)\n",
    "        if (score := count_lines(rotated)) > best_score:\n",
    "            best_score = score\n",
    "            best_angle = i\n",
    "\n",
    "    img = rotate_image(img, best_angle)\n",
    "    if upside_down(img):\n",
    "        return rotate_image(img, 180)\n",
    "    return img\n"
   ]
  },
  {
   "cell_type": "code",
   "execution_count": 44,
   "metadata": {},
   "outputs": [],
   "source": [
    "from bisect import bisect_left\n",
    "from intervaltree import IntervalTree, Interval\n",
    "\n",
    "def split_lines(points, height):\n",
    "    points.sort()\n",
    "    lines = [points[0][0] - 1]\n",
    "    height /= 3\n",
    "    last_x = points[0][0]\n",
    "    for x, y in points[1:]:\n",
    "        if x - last_x > height:\n",
    "            lines.append(x - 1)\n",
    "        last_x = x\n",
    "    return lines\n",
    "\n",
    "\n",
    "def find_occurrences(pattern, image, eps=0.05):\n",
    "    convolution = convolve_images(pattern, image)\n",
    "    pattern = np.array(pattern, dtype=float)\n",
    "    max_correlation = np.sum(pattern * pattern)\n",
    "    return list(zip(*np.where(np.abs(convolution - max_correlation) < eps * max_correlation)))\n",
    "\n",
    "\n",
    "def create_graph(font, font_size, chars):\n",
    "    images = [draw_multiline_text(c, size=(200, 200), font=font, font_size=font_size)[0] for c in characters]\n",
    "    images = list(map(img_to_matrix, images))\n",
    "    images = list(map(invert_colors, images))\n",
    "\n",
    "    g = [[] for _ in range(len(chars))]\n",
    "    for i, pattern in enumerate(chars):\n",
    "        for j, image in enumerate(images):\n",
    "            if i != j and find_occurrences(pattern, image):\n",
    "                g[j].append(i)\n",
    "    return g\n",
    "\n",
    "\n",
    "def dfs(v, g, visit, order):\n",
    "    visit[v] = True\n",
    "    for s in g[v]:\n",
    "        if not visit[s]:\n",
    "            dfs(s, g, visit, order)\n",
    "    order.append(v)\n",
    "\n",
    "def topological_sort(g):\n",
    "    n = len(g)\n",
    "    visit = np.full(n, False)\n",
    "    order = []\n",
    "    for i in range(n):\n",
    "        if not visit[i]:\n",
    "            dfs(i, g, visit, order)\n",
    "    return np.array(order)[::-1]\n",
    "\n",
    "\n",
    "\n",
    "def ocr(image, font, font_size, order=None):\n",
    "    # image = correct_angle(image)\n",
    "    chars = get_all_character(font, font_size)\n",
    "    char_arrays = list(map(img_to_matrix, chars))\n",
    "    char_arrays = list(map(invert_colors, char_arrays))\n",
    "    if order is None:\n",
    "        g = create_graph(font, font_size, char_arrays)\n",
    "        order = topological_sort(g)\n",
    "\n",
    "    matrix = img_to_matrix(image)\n",
    "    matrix = invert_colors(matrix)\n",
    "\n",
    "    lines = split_lines([point for char in char_arrays for point in find_occurrences(char, matrix)]\n",
    "                        , max(char.shape[1] for char in char_arrays))\n",
    "\n",
    "    n = len(lines)\n",
    "    intervals = [IntervalTree() for _ in range(n)]\n",
    "    interval_letter_map = [{} for _ in range(n)]\n",
    "\n",
    "    for char_ind in order:\n",
    "        char_occur = find_occurrences(char_arrays[char_ind], matrix)\n",
    "        yes_occur = []\n",
    "        for x, y in char_occur:\n",
    "            interval = bisect_left(lines, x) - 1\n",
    "            left, right = y - char_arrays[char_ind].shape[1] + 2, y - 2\n",
    "            if not intervals[interval].overlaps(Interval(left, right)):\n",
    "                intervals[interval].add(Interval(left, right))\n",
    "                interval_letter_map[interval][(left, right)] = char_ind\n",
    "                yes_occur.append((x, y))\n",
    "\n",
    "        # new_img = Image.fromarray(matrix).convert('RGB')\n",
    "        # new_array = np.array(new_img)\n",
    "        # a, b = char_arrays[char_ind].shape\n",
    "        # red = (255, 0, 0)\n",
    "        # for i, j in yes_occur:\n",
    "        #     new_array[i:i-a:-1, j] = red\n",
    "        #     new_array[i:i-a:-1, j - b] = red\n",
    "        #     new_array[i, j:j-b:-1] = red\n",
    "        #     new_array[i - a, j:j-b:-1] = red\n",
    "        #\n",
    "        # display(Image.fromarray(new_array))\n",
    "\n",
    "    space_width = img_to_matrix(draw_single_character(' ', font_size, font)).shape[1]\n",
    "    sorted_lines = [sorted(list(line.items())) for line in interval_letter_map]\n",
    "    leftmost = min([sorted_lines[i][0][0][0] for i in range(n)])\n",
    "    output = \"\"\n",
    "\n",
    "    for line in sorted_lines:\n",
    "        last_end = leftmost\n",
    "        for (x, y), char in line:\n",
    "            if x - last_end > space_width:\n",
    "                output += \" \"*((x - last_end) // space_width)\n",
    "            output += characters[char]\n",
    "            last_end = y\n",
    "        output += '\\n'\n",
    "\n",
    "    return output"
   ]
  },
  {
   "cell_type": "code",
   "execution_count": 45,
   "outputs": [
    {
     "data": {
      "text/plain": "<PIL.Image.Image image mode=RGB size=800x600>",
      "image/png": "[encoded data removed]"
     },
     "metadata": {},
     "output_type": "display_data"
    }
   ],
   "source": [
    "# out = rotate_image(out, 20)\n",
    "display(out)"
   ],
   "metadata": {
    "collapsed": false
   }
  },
  {
   "cell_type": "code",
   "execution_count": 49,
   "metadata": {},
   "outputs": [],
   "source": [
    "points_s = ocr(out, 'arial', f_size)"
   ]
  },
  {
   "cell_type": "code",
   "execution_count": 50,
   "outputs": [
    {
     "name": "stdout",
     "output_type": "stream",
     "text": [
      "\n",
      "nature s first green is gold\n",
      "her hardest hue to hold.\n",
      "her early leaf s a flower\n",
      "but only so an hour.\n",
      "\n",
      "\n"
     ]
    }
   ],
   "source": [
    "print(txt)"
   ],
   "metadata": {
    "collapsed": false
   }
  },
  {
   "cell_type": "code",
   "execution_count": 51,
   "outputs": [
    {
     "name": "stdout",
     "output_type": "stream",
     "text": [
      "nature s first green is gold\n",
      "her hardest hue to hold.\n",
      "her early leaf s a flower\n",
      "but only so an hour.\n",
      "\n"
     ]
    }
   ],
   "source": [
    "print(points_s)"
   ],
   "metadata": {
    "collapsed": false
   }
  },
  {
   "cell_type": "code",
   "execution_count": 364,
   "outputs": [
    {
     "name": "stdout",
     "output_type": "stream",
     "text": [
      "45\n"
     ]
    }
   ],
   "source": [
    "print(f_size)"
   ],
   "metadata": {
    "collapsed": false
   }
  },
  {
   "cell_type": "code",
   "execution_count": null,
   "outputs": [],
   "source": [],
   "metadata": {
    "collapsed": false
   }
  }
 ],
 "metadata": {
  "kernelspec": {
   "display_name": "Python 3 (ipykernel)",
   "language": "python",
   "name": "python3"
  },
  "language_info": {
   "codemirror_mode": {
    "name": "ipython",
    "version": 3
   },
   "file_extension": ".py",
   "mimetype": "text/x-python",
   "name": "python",
   "nbconvert_exporter": "python",
   "pygments_lexer": "ipython3",
   "version": "3.11.2"
  }
 },
 "nbformat": 4,
 "nbformat_minor": 1
}
