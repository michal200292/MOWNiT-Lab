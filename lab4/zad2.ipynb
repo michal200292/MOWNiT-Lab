{
 "cells": [
  {
   "cell_type": "markdown",
   "source": [],
   "metadata": {
    "collapsed": false
   }
  },
  {
   "cell_type": "code",
   "execution_count": 1,
   "metadata": {
    "collapsed": true
   },
   "outputs": [],
   "source": [
    "import numpy as np\n",
    "from PIL import Image\n",
    "import matplotlib.pyplot as plt"
   ]
  },
  {
   "cell_type": "code",
   "execution_count": 3,
   "outputs": [],
   "source": [
    "def draw_image(popout=False):\n",
    "    image = Image.new(mode=\"RGB\", color=(0, 0, 0), size=(image_size, image_size))\n",
    "    for i in range(m):\n",
    "        for j in range(m):\n",
    "            color = (0, 0, 0) if matrix[i, j] else (255, 255, 255)\n",
    "            for k in range(i*d, i*d + d):\n",
    "                for l in range(j*d, j*d + d):\n",
    "                    image.putpixel((k, l), color)\n",
    "    display(image)\n",
    "    if popout:\n",
    "        image.show()"
   ],
   "metadata": {
    "collapsed": false
   }
  },
  {
   "cell_type": "code",
   "execution_count": 4,
   "outputs": [
    {
     "ename": "NameError",
     "evalue": "name 'image_size' is not defined",
     "output_type": "error",
     "traceback": [
      "\u001B[1;31m---------------------------------------------------------------------------\u001B[0m",
      "\u001B[1;31mNameError\u001B[0m                                 Traceback (most recent call last)",
      "Cell \u001B[1;32mIn[4], line 1\u001B[0m\n\u001B[1;32m----> 1\u001B[0m \u001B[43mdraw_image\u001B[49m\u001B[43m(\u001B[49m\u001B[43m)\u001B[49m\n",
      "Cell \u001B[1;32mIn[3], line 2\u001B[0m, in \u001B[0;36mdraw_image\u001B[1;34m(popout)\u001B[0m\n\u001B[0;32m      1\u001B[0m \u001B[38;5;28;01mdef\u001B[39;00m \u001B[38;5;21mdraw_image\u001B[39m(popout\u001B[38;5;241m=\u001B[39m\u001B[38;5;28;01mFalse\u001B[39;00m):\n\u001B[1;32m----> 2\u001B[0m     image \u001B[38;5;241m=\u001B[39m Image\u001B[38;5;241m.\u001B[39mnew(mode\u001B[38;5;241m=\u001B[39m\u001B[38;5;124m\"\u001B[39m\u001B[38;5;124mRGB\u001B[39m\u001B[38;5;124m\"\u001B[39m, color\u001B[38;5;241m=\u001B[39m(\u001B[38;5;241m0\u001B[39m, \u001B[38;5;241m0\u001B[39m, \u001B[38;5;241m0\u001B[39m), size\u001B[38;5;241m=\u001B[39m(\u001B[43mimage_size\u001B[49m, image_size))\n\u001B[0;32m      3\u001B[0m     \u001B[38;5;28;01mfor\u001B[39;00m i \u001B[38;5;129;01min\u001B[39;00m \u001B[38;5;28mrange\u001B[39m(m):\n\u001B[0;32m      4\u001B[0m         \u001B[38;5;28;01mfor\u001B[39;00m j \u001B[38;5;129;01min\u001B[39;00m \u001B[38;5;28mrange\u001B[39m(m):\n",
      "\u001B[1;31mNameError\u001B[0m: name 'image_size' is not defined"
     ]
    }
   ],
   "source": [
    "def prepare_image():\n",
    "    for i in range(m):\n",
    "        for j in range(m):\n",
    "            matrix[i, j] = 1 if np.random.rand() < density else 0\n",
    "m = 512\n",
    "image_size = 512\n",
    "density = 0.5\n",
    "d = image_size // m\n",
    "matrix = np.zeros((m, m))\n",
    "prepare_image()\n",
    "draw_image()"
   ],
   "metadata": {
    "collapsed": false
   }
  },
  {
   "cell_type": "code",
   "execution_count": 156,
   "outputs": [],
   "source": [
    "draw_image(popout=True)"
   ],
   "metadata": {
    "collapsed": false
   }
  },
  {
   "cell_type": "code",
   "execution_count": 157,
   "outputs": [],
   "source": [
    "def single_cell_energy(x, y):\n",
    "    energy = 0\n",
    "    energy += abs(matrix[x, y] - matrix[x, y+1])\n",
    "    energy += abs(matrix[x, y] - matrix[x+1, y])\n",
    "    energy += abs(matrix[x, y] - matrix[x, y-1])\n",
    "    energy += abs(matrix[x, y] - matrix[x-1, y])\n",
    "    return energy\n",
    "\n",
    "def check_energy(x1, y1, x2, y2):\n",
    "    return single_cell_energy(x1, y1) + single_cell_energy(x2, y2)\n",
    "\n",
    "def calculate_initial_energy():\n",
    "    energy = 0\n",
    "    for i in range(1, m - 1):\n",
    "        for j in range(1, m - 1):\n",
    "            energy += single_cell_energy(i, j)\n",
    "    return energy"
   ],
   "metadata": {
    "collapsed": false
   }
  },
  {
   "cell_type": "code",
   "execution_count": null,
   "outputs": [],
   "source": [
    "def check_difference(x1, y1, x2, y2):\n",
    "    before = check_energy(x1, y1, x2, y2)\n",
    "    matrix[x1, y1], matrix[x2, y2] = matrix[x2, y2], matrix[x1, y1]\n",
    "    after = check_energy(x1, y1, x2, y2)\n",
    "    return (x1, y1), (x2, y2), 2*(after - before)\n",
    "\n",
    "def check_neighbor():\n",
    "    x, y = np.random.randint(1, m - 2), np.random.randint(1, m - 2)\n",
    "    x_d, y_d = 0, 0\n",
    "    if 1 == np.random.randint(0, 2):\n",
    "        x_d = 1\n",
    "    else:\n",
    "        y_d = 1\n",
    "    if matrix[x, y] != matrix[x + x_d, y+y_d]:\n",
    "        return check_difference(x, y, x+x_d, y+y_d)\n",
    "    else:\n",
    "        x_d, y_d = y_d, x_d\n",
    "        if matrix[x, y] == matrix[x + x_d, y+y_d]:\n",
    "            return None, None, None\n",
    "        else:\n",
    "            return check_difference(x, y, x+x_d, y+y_d)"
   ],
   "metadata": {
    "collapsed": false,
    "pycharm": {
     "is_executing": true
    }
   }
  },
  {
   "cell_type": "code",
   "execution_count": null,
   "outputs": [],
   "source": [
    "cur_energy = calculate_initial_energy()"
   ],
   "metadata": {
    "collapsed": false
   }
  },
  {
   "cell_type": "code",
   "execution_count": null,
   "outputs": [],
   "source": [
    "alpha = 0.999\n",
    "T0 = 100\n",
    "T = T0\n",
    "temperature = [T]\n",
    "energy_states = [cur_energy]\n",
    "steps = 100000\n",
    "probability = []\n",
    "for i in range(steps):\n",
    "    for j in range(1000):\n",
    "        s1, s2, delta = check_neighbor()\n",
    "        if s1 is None:\n",
    "            continue\n",
    "        if delta < 0:\n",
    "            cur_energy += delta\n",
    "        else:\n",
    "            p1 = np.exp((-delta) / T)\n",
    "            probability.append(p1)\n",
    "            if p1 > np.random.uniform(0, 1):\n",
    "                cur_energy += delta\n",
    "            else:\n",
    "                matrix[s1[0], s1[1]], matrix[s2[0], s2[1]] = matrix[s2[0], s2[1]] , matrix[s1[0], s1[1]]\n",
    "        if j % 200 == 0:\n",
    "            energy_states.append(cur_energy)\n",
    "    if i % 100 == 0:\n",
    "        print(i)\n",
    "    T = T *alpha\n",
    "    temperature.append(T)\n",
    "\n",
    "draw_image(popout=True)"
   ],
   "metadata": {
    "collapsed": false,
    "pycharm": {
     "is_executing": true
    }
   }
  },
  {
   "cell_type": "code",
   "execution_count": 150,
   "outputs": [
    {
     "data": {
      "text/plain": "<Figure size 640x480 with 1 Axes>",
      "image/png": "[encoded data removed]"
     },
     "metadata": {},
     "output_type": "display_data"
    }
   ],
   "source": [
    "plt.plot([i for i in range(len(energy_states))], energy_states)\n",
    "plt.show()"
   ],
   "metadata": {
    "collapsed": false
   }
  },
  {
   "cell_type": "code",
   "execution_count": null,
   "outputs": [],
   "source": [
    "plt.plot([i for i in range(len(probability))], probability)\n",
    "plt.show()"
   ],
   "metadata": {
    "collapsed": false
   }
  },
  {
   "cell_type": "code",
   "execution_count": null,
   "outputs": [],
   "source": [
    "plt.plot([i for i in range(len(temperature))], temperature)\n",
    "plt.show()"
   ],
   "metadata": {
    "collapsed": false
   }
  }
 ],
 "metadata": {
  "kernelspec": {
   "display_name": "Python 3",
   "language": "python",
   "name": "python3"
  },
  "language_info": {
   "codemirror_mode": {
    "name": "ipython",
    "version": 2
   },
   "file_extension": ".py",
   "mimetype": "text/x-python",
   "name": "python",
   "nbconvert_exporter": "python",
   "pygments_lexer": "ipython2",
   "version": "2.7.6"
  }
 },
 "nbformat": 4,
 "nbformat_minor": 0
}
